{
 "cells": [
  {
   "cell_type": "code",
   "execution_count": 3,
   "id": "6e27fb5a-99e6-40cb-956a-ac427599e54a",
   "metadata": {},
   "outputs": [],
   "source": [
    "#PyBank Homework"
   ]
  },
  {
   "cell_type": "code",
   "execution_count": 72,
   "id": "4f78909c-439c-4fba-aa98-da856aef2347",
   "metadata": {},
   "outputs": [
    {
     "name": "stdout",
     "output_type": "stream",
     "text": [
      "Financial Analysis\n",
      "----------------------------\n",
      "Total Months: 86\n",
      "Total: $38382578\n",
      "Average Change: $-2315.12\n",
      "Greatest Increase in Profits: Feb-2012 ($1926159)\n",
      "Greatest Decrease in Profits: Sep-2013 ($-2196167)\n"
     ]
    }
   ],
   "source": [
    "#Import CSV File\n",
    "import pandas as pd\n",
    "budget=pd.read_csv(\"/Users/aliait/Desktop/budget_data.csv\")\n",
    "df=pd.DataFrame(budget)\n",
    "\n",
    "#Compute the difference in profit and losses.\n",
    "revenue_change = df[\"Profit/Losses\"].diff()\n",
    "\n",
    "#Add the results to the original dataset.\n",
    "budget[\"Revenue Change\"]=revenue_change\n",
    "\n",
    "#The total number of months included in the dataset.\n",
    "total_months = len(budget)\n",
    "\n",
    "#The net total amount of Profit/Losses over the entire period.\n",
    "total_profit_losses = budget[\"Profit/Losses\"].sum()\n",
    "\n",
    "#The average of the changes in Profit/Losses over the entire period.\n",
    "average_change = round(revenue_change.mean(),2)\n",
    "\n",
    "#The greatest increase in profits (date and amount) over the entire period.\n",
    "max_increase = int(revenue_change.max())\n",
    "max_month=df.iloc[df['Revenue Change'].idxmax(),0]\n",
    "#The greatest decrease in losses (date and amount) over the entire period.\n",
    "max_decrease = int(revenue_change.min())\n",
    "min_month=df.iloc[df['Revenue Change'].idxmin(),0]\n",
    "\n",
    "#Print Results\n",
    "print(\"Financial Analysis\")\n",
    "print(\"----------------------------\")\n",
    "print(f\"Total Months: {total_months}\")\n",
    "print(f\"Total: ${total_profit_losses}\")\n",
    "print(f\"Average Change: ${average_change}\")\n",
    "print(f\"Greatest Increase in Profits: {max_month} (${max_increase})\")\n",
    "print(f\"Greatest Decrease in Profits: {min_month} (${max_decrease})\")\n"
   ]
  },
  {
   "cell_type": "markdown",
   "id": "e4b247f0-57d9-45c8-afba-a3d63581a7dc",
   "metadata": {},
   "source": [
    " "
   ]
  }
 ],
 "metadata": {
  "kernelspec": {
   "display_name": "Python 3 (ipykernel)",
   "language": "python",
   "name": "python3"
  },
  "language_info": {
   "codemirror_mode": {
    "name": "ipython",
    "version": 3
   },
   "file_extension": ".py",
   "mimetype": "text/x-python",
   "name": "python",
   "nbconvert_exporter": "python",
   "pygments_lexer": "ipython3",
   "version": "3.9.7"
  }
 },
 "nbformat": 4,
 "nbformat_minor": 5
}
